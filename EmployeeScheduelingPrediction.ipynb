{
  "nbformat": 4,
  "nbformat_minor": 0,
  "metadata": {
    "colab": {
      "provenance": [],
      "mount_file_id": "1PeuUP3mHfSX3Dbi88-55veUw-wCK4UZp",
      "authorship_tag": "ABX9TyM2aEyJ9nIgnEu3t4r8eyiR",
      "include_colab_link": true
    },
    "kernelspec": {
      "name": "python3",
      "display_name": "Python 3"
    },
    "language_info": {
      "name": "python"
    }
  },
  "cells": [
    {
      "cell_type": "markdown",
      "metadata": {
        "id": "view-in-github",
        "colab_type": "text"
      },
      "source": [
        "<a href=\"https://colab.research.google.com/github/sergiosiman/employee_schedueling/blob/main/EmployeeScheduelingPrediction.ipynb\" target=\"_parent\"><img src=\"https://colab.research.google.com/assets/colab-badge.svg\" alt=\"Open In Colab\"/></a>"
      ]
    },
    {
      "cell_type": "markdown",
      "source": [
        "# Start Setup and include file path\n",
        "Import the Pandas libary, and import all SkLearn libary functions needed. Also define the dataset path."
      ],
      "metadata": {
        "id": "btP1qjwcIQnF"
      }
    },
    {
      "cell_type": "code",
      "execution_count": 30,
      "metadata": {
        "colab": {
          "base_uri": "https://localhost:8080/"
        },
        "id": "_v81JeXmHwGb",
        "outputId": "6613b47a-907e-4200-bc56-e1747313af66"
      },
      "outputs": [
        {
          "output_type": "stream",
          "name": "stdout",
          "text": [
            "Setup Complete\n"
          ]
        }
      ],
      "source": [
        "import pandas as pd                                   # for data handling\n",
        "from sklearn.model_selection import train_test_split  # for splitting data\n",
        "from sklearn.ensemble import RandomForestRegressor    # example model\n",
        "from sklearn.metrics import mean_absolute_error       # evaluation metric\n",
        "from sklearn.pipeline import Pipeline                 # make pipeline\n",
        "from sklearn.impute import SimpleImputer              # impute missing values\n",
        "from xgboost import XGBRegressor                      # extreme gradient boost model\n",
        "import matplotlib.pyplot as plt                       # visualizing data\n",
        "\n",
        "dataset_path = \"/content/drive/MyDrive/Colab Notebooks/store_employee_dataset.csv\"\n",
        "\n",
        "print('Setup Complete')"
      ]
    },
    {
      "cell_type": "markdown",
      "source": [
        "# Load data\n",
        "Load the dataset into a variable and display first five rows for a preview."
      ],
      "metadata": {
        "id": "dsaHuG5WIUX2"
      }
    },
    {
      "cell_type": "code",
      "source": [
        "# Create a DataFrame of the dataset file\n",
        "df = pd.read_csv(dataset_path)\n",
        "df.head()"
      ],
      "metadata": {
        "colab": {
          "base_uri": "https://localhost:8080/",
          "height": 206
        },
        "id": "OrxI89NSIFrU",
        "outputId": "1a6b1bd5-6fbd-4da1-a5c6-4e6a0e33af80"
      },
      "execution_count": 31,
      "outputs": [
        {
          "output_type": "execute_result",
          "data": {
            "text/plain": [
              "         date store_id  store_size  temp  rain_mm  humidity  is_weekend  \\\n",
              "0  2023-01-01  store_1         150  30.9      4.0        70           1   \n",
              "1  2023-01-02  store_1         150  34.0      0.1        88           0   \n",
              "2  2023-01-03  store_1         150  27.9      0.6        50           0   \n",
              "3  2023-01-04  store_1         150  29.6      1.2        56           0   \n",
              "4  2023-01-05  store_1         150  28.7      0.2        72           0   \n",
              "\n",
              "   is_15th_or_30th  is_holiday  promotion_level  daily_traffic    sales  \\\n",
              "0                0           1                0            300  4634.46   \n",
              "1                0           0                0            224  4508.85   \n",
              "2                0           0                2            469  4995.54   \n",
              "3                0           0                1            382  4746.42   \n",
              "4                0           0                0            215  4201.17   \n",
              "\n",
              "   required_employees  \n",
              "0                   6  \n",
              "1                   5  \n",
              "2                   8  \n",
              "3                   6  \n",
              "4                   5  "
            ],
            "text/html": [
              "\n",
              "  <div id=\"df-38ffadfb-66fe-4fc5-97c0-8f09ec3a6afd\" class=\"colab-df-container\">\n",
              "    <div>\n",
              "<style scoped>\n",
              "    .dataframe tbody tr th:only-of-type {\n",
              "        vertical-align: middle;\n",
              "    }\n",
              "\n",
              "    .dataframe tbody tr th {\n",
              "        vertical-align: top;\n",
              "    }\n",
              "\n",
              "    .dataframe thead th {\n",
              "        text-align: right;\n",
              "    }\n",
              "</style>\n",
              "<table border=\"1\" class=\"dataframe\">\n",
              "  <thead>\n",
              "    <tr style=\"text-align: right;\">\n",
              "      <th></th>\n",
              "      <th>date</th>\n",
              "      <th>store_id</th>\n",
              "      <th>store_size</th>\n",
              "      <th>temp</th>\n",
              "      <th>rain_mm</th>\n",
              "      <th>humidity</th>\n",
              "      <th>is_weekend</th>\n",
              "      <th>is_15th_or_30th</th>\n",
              "      <th>is_holiday</th>\n",
              "      <th>promotion_level</th>\n",
              "      <th>daily_traffic</th>\n",
              "      <th>sales</th>\n",
              "      <th>required_employees</th>\n",
              "    </tr>\n",
              "  </thead>\n",
              "  <tbody>\n",
              "    <tr>\n",
              "      <th>0</th>\n",
              "      <td>2023-01-01</td>\n",
              "      <td>store_1</td>\n",
              "      <td>150</td>\n",
              "      <td>30.9</td>\n",
              "      <td>4.0</td>\n",
              "      <td>70</td>\n",
              "      <td>1</td>\n",
              "      <td>0</td>\n",
              "      <td>1</td>\n",
              "      <td>0</td>\n",
              "      <td>300</td>\n",
              "      <td>4634.46</td>\n",
              "      <td>6</td>\n",
              "    </tr>\n",
              "    <tr>\n",
              "      <th>1</th>\n",
              "      <td>2023-01-02</td>\n",
              "      <td>store_1</td>\n",
              "      <td>150</td>\n",
              "      <td>34.0</td>\n",
              "      <td>0.1</td>\n",
              "      <td>88</td>\n",
              "      <td>0</td>\n",
              "      <td>0</td>\n",
              "      <td>0</td>\n",
              "      <td>0</td>\n",
              "      <td>224</td>\n",
              "      <td>4508.85</td>\n",
              "      <td>5</td>\n",
              "    </tr>\n",
              "    <tr>\n",
              "      <th>2</th>\n",
              "      <td>2023-01-03</td>\n",
              "      <td>store_1</td>\n",
              "      <td>150</td>\n",
              "      <td>27.9</td>\n",
              "      <td>0.6</td>\n",
              "      <td>50</td>\n",
              "      <td>0</td>\n",
              "      <td>0</td>\n",
              "      <td>0</td>\n",
              "      <td>2</td>\n",
              "      <td>469</td>\n",
              "      <td>4995.54</td>\n",
              "      <td>8</td>\n",
              "    </tr>\n",
              "    <tr>\n",
              "      <th>3</th>\n",
              "      <td>2023-01-04</td>\n",
              "      <td>store_1</td>\n",
              "      <td>150</td>\n",
              "      <td>29.6</td>\n",
              "      <td>1.2</td>\n",
              "      <td>56</td>\n",
              "      <td>0</td>\n",
              "      <td>0</td>\n",
              "      <td>0</td>\n",
              "      <td>1</td>\n",
              "      <td>382</td>\n",
              "      <td>4746.42</td>\n",
              "      <td>6</td>\n",
              "    </tr>\n",
              "    <tr>\n",
              "      <th>4</th>\n",
              "      <td>2023-01-05</td>\n",
              "      <td>store_1</td>\n",
              "      <td>150</td>\n",
              "      <td>28.7</td>\n",
              "      <td>0.2</td>\n",
              "      <td>72</td>\n",
              "      <td>0</td>\n",
              "      <td>0</td>\n",
              "      <td>0</td>\n",
              "      <td>0</td>\n",
              "      <td>215</td>\n",
              "      <td>4201.17</td>\n",
              "      <td>5</td>\n",
              "    </tr>\n",
              "  </tbody>\n",
              "</table>\n",
              "</div>\n",
              "    <div class=\"colab-df-buttons\">\n",
              "\n",
              "  <div class=\"colab-df-container\">\n",
              "    <button class=\"colab-df-convert\" onclick=\"convertToInteractive('df-38ffadfb-66fe-4fc5-97c0-8f09ec3a6afd')\"\n",
              "            title=\"Convert this dataframe to an interactive table.\"\n",
              "            style=\"display:none;\">\n",
              "\n",
              "  <svg xmlns=\"http://www.w3.org/2000/svg\" height=\"24px\" viewBox=\"0 -960 960 960\">\n",
              "    <path d=\"M120-120v-720h720v720H120Zm60-500h600v-160H180v160Zm220 220h160v-160H400v160Zm0 220h160v-160H400v160ZM180-400h160v-160H180v160Zm440 0h160v-160H620v160ZM180-180h160v-160H180v160Zm440 0h160v-160H620v160Z\"/>\n",
              "  </svg>\n",
              "    </button>\n",
              "\n",
              "  <style>\n",
              "    .colab-df-container {\n",
              "      display:flex;\n",
              "      gap: 12px;\n",
              "    }\n",
              "\n",
              "    .colab-df-convert {\n",
              "      background-color: #E8F0FE;\n",
              "      border: none;\n",
              "      border-radius: 50%;\n",
              "      cursor: pointer;\n",
              "      display: none;\n",
              "      fill: #1967D2;\n",
              "      height: 32px;\n",
              "      padding: 0 0 0 0;\n",
              "      width: 32px;\n",
              "    }\n",
              "\n",
              "    .colab-df-convert:hover {\n",
              "      background-color: #E2EBFA;\n",
              "      box-shadow: 0px 1px 2px rgba(60, 64, 67, 0.3), 0px 1px 3px 1px rgba(60, 64, 67, 0.15);\n",
              "      fill: #174EA6;\n",
              "    }\n",
              "\n",
              "    .colab-df-buttons div {\n",
              "      margin-bottom: 4px;\n",
              "    }\n",
              "\n",
              "    [theme=dark] .colab-df-convert {\n",
              "      background-color: #3B4455;\n",
              "      fill: #D2E3FC;\n",
              "    }\n",
              "\n",
              "    [theme=dark] .colab-df-convert:hover {\n",
              "      background-color: #434B5C;\n",
              "      box-shadow: 0px 1px 3px 1px rgba(0, 0, 0, 0.15);\n",
              "      filter: drop-shadow(0px 1px 2px rgba(0, 0, 0, 0.3));\n",
              "      fill: #FFFFFF;\n",
              "    }\n",
              "  </style>\n",
              "\n",
              "    <script>\n",
              "      const buttonEl =\n",
              "        document.querySelector('#df-38ffadfb-66fe-4fc5-97c0-8f09ec3a6afd button.colab-df-convert');\n",
              "      buttonEl.style.display =\n",
              "        google.colab.kernel.accessAllowed ? 'block' : 'none';\n",
              "\n",
              "      async function convertToInteractive(key) {\n",
              "        const element = document.querySelector('#df-38ffadfb-66fe-4fc5-97c0-8f09ec3a6afd');\n",
              "        const dataTable =\n",
              "          await google.colab.kernel.invokeFunction('convertToInteractive',\n",
              "                                                    [key], {});\n",
              "        if (!dataTable) return;\n",
              "\n",
              "        const docLinkHtml = 'Like what you see? Visit the ' +\n",
              "          '<a target=\"_blank\" href=https://colab.research.google.com/notebooks/data_table.ipynb>data table notebook</a>'\n",
              "          + ' to learn more about interactive tables.';\n",
              "        element.innerHTML = '';\n",
              "        dataTable['output_type'] = 'display_data';\n",
              "        await google.colab.output.renderOutput(dataTable, element);\n",
              "        const docLink = document.createElement('div');\n",
              "        docLink.innerHTML = docLinkHtml;\n",
              "        element.appendChild(docLink);\n",
              "      }\n",
              "    </script>\n",
              "  </div>\n",
              "\n",
              "\n",
              "    <div id=\"df-c0e788b9-727a-46e6-9d8a-88ee98b975ec\">\n",
              "      <button class=\"colab-df-quickchart\" onclick=\"quickchart('df-c0e788b9-727a-46e6-9d8a-88ee98b975ec')\"\n",
              "                title=\"Suggest charts\"\n",
              "                style=\"display:none;\">\n",
              "\n",
              "<svg xmlns=\"http://www.w3.org/2000/svg\" height=\"24px\"viewBox=\"0 0 24 24\"\n",
              "     width=\"24px\">\n",
              "    <g>\n",
              "        <path d=\"M19 3H5c-1.1 0-2 .9-2 2v14c0 1.1.9 2 2 2h14c1.1 0 2-.9 2-2V5c0-1.1-.9-2-2-2zM9 17H7v-7h2v7zm4 0h-2V7h2v10zm4 0h-2v-4h2v4z\"/>\n",
              "    </g>\n",
              "</svg>\n",
              "      </button>\n",
              "\n",
              "<style>\n",
              "  .colab-df-quickchart {\n",
              "      --bg-color: #E8F0FE;\n",
              "      --fill-color: #1967D2;\n",
              "      --hover-bg-color: #E2EBFA;\n",
              "      --hover-fill-color: #174EA6;\n",
              "      --disabled-fill-color: #AAA;\n",
              "      --disabled-bg-color: #DDD;\n",
              "  }\n",
              "\n",
              "  [theme=dark] .colab-df-quickchart {\n",
              "      --bg-color: #3B4455;\n",
              "      --fill-color: #D2E3FC;\n",
              "      --hover-bg-color: #434B5C;\n",
              "      --hover-fill-color: #FFFFFF;\n",
              "      --disabled-bg-color: #3B4455;\n",
              "      --disabled-fill-color: #666;\n",
              "  }\n",
              "\n",
              "  .colab-df-quickchart {\n",
              "    background-color: var(--bg-color);\n",
              "    border: none;\n",
              "    border-radius: 50%;\n",
              "    cursor: pointer;\n",
              "    display: none;\n",
              "    fill: var(--fill-color);\n",
              "    height: 32px;\n",
              "    padding: 0;\n",
              "    width: 32px;\n",
              "  }\n",
              "\n",
              "  .colab-df-quickchart:hover {\n",
              "    background-color: var(--hover-bg-color);\n",
              "    box-shadow: 0 1px 2px rgba(60, 64, 67, 0.3), 0 1px 3px 1px rgba(60, 64, 67, 0.15);\n",
              "    fill: var(--button-hover-fill-color);\n",
              "  }\n",
              "\n",
              "  .colab-df-quickchart-complete:disabled,\n",
              "  .colab-df-quickchart-complete:disabled:hover {\n",
              "    background-color: var(--disabled-bg-color);\n",
              "    fill: var(--disabled-fill-color);\n",
              "    box-shadow: none;\n",
              "  }\n",
              "\n",
              "  .colab-df-spinner {\n",
              "    border: 2px solid var(--fill-color);\n",
              "    border-color: transparent;\n",
              "    border-bottom-color: var(--fill-color);\n",
              "    animation:\n",
              "      spin 1s steps(1) infinite;\n",
              "  }\n",
              "\n",
              "  @keyframes spin {\n",
              "    0% {\n",
              "      border-color: transparent;\n",
              "      border-bottom-color: var(--fill-color);\n",
              "      border-left-color: var(--fill-color);\n",
              "    }\n",
              "    20% {\n",
              "      border-color: transparent;\n",
              "      border-left-color: var(--fill-color);\n",
              "      border-top-color: var(--fill-color);\n",
              "    }\n",
              "    30% {\n",
              "      border-color: transparent;\n",
              "      border-left-color: var(--fill-color);\n",
              "      border-top-color: var(--fill-color);\n",
              "      border-right-color: var(--fill-color);\n",
              "    }\n",
              "    40% {\n",
              "      border-color: transparent;\n",
              "      border-right-color: var(--fill-color);\n",
              "      border-top-color: var(--fill-color);\n",
              "    }\n",
              "    60% {\n",
              "      border-color: transparent;\n",
              "      border-right-color: var(--fill-color);\n",
              "    }\n",
              "    80% {\n",
              "      border-color: transparent;\n",
              "      border-right-color: var(--fill-color);\n",
              "      border-bottom-color: var(--fill-color);\n",
              "    }\n",
              "    90% {\n",
              "      border-color: transparent;\n",
              "      border-bottom-color: var(--fill-color);\n",
              "    }\n",
              "  }\n",
              "</style>\n",
              "\n",
              "      <script>\n",
              "        async function quickchart(key) {\n",
              "          const quickchartButtonEl =\n",
              "            document.querySelector('#' + key + ' button');\n",
              "          quickchartButtonEl.disabled = true;  // To prevent multiple clicks.\n",
              "          quickchartButtonEl.classList.add('colab-df-spinner');\n",
              "          try {\n",
              "            const charts = await google.colab.kernel.invokeFunction(\n",
              "                'suggestCharts', [key], {});\n",
              "          } catch (error) {\n",
              "            console.error('Error during call to suggestCharts:', error);\n",
              "          }\n",
              "          quickchartButtonEl.classList.remove('colab-df-spinner');\n",
              "          quickchartButtonEl.classList.add('colab-df-quickchart-complete');\n",
              "        }\n",
              "        (() => {\n",
              "          let quickchartButtonEl =\n",
              "            document.querySelector('#df-c0e788b9-727a-46e6-9d8a-88ee98b975ec button');\n",
              "          quickchartButtonEl.style.display =\n",
              "            google.colab.kernel.accessAllowed ? 'block' : 'none';\n",
              "        })();\n",
              "      </script>\n",
              "    </div>\n",
              "\n",
              "    </div>\n",
              "  </div>\n"
            ],
            "application/vnd.google.colaboratory.intrinsic+json": {
              "type": "dataframe",
              "variable_name": "df",
              "summary": "{\n  \"name\": \"df\",\n  \"rows\": 270,\n  \"fields\": [\n    {\n      \"column\": \"date\",\n      \"properties\": {\n        \"dtype\": \"object\",\n        \"num_unique_values\": 90,\n        \"samples\": [\n          \"2023-02-10\",\n          \"2023-01-23\",\n          \"2023-02-25\"\n        ],\n        \"semantic_type\": \"\",\n        \"description\": \"\"\n      }\n    },\n    {\n      \"column\": \"store_id\",\n      \"properties\": {\n        \"dtype\": \"category\",\n        \"num_unique_values\": 3,\n        \"samples\": [\n          \"store_1\",\n          \"store_2\",\n          \"store_3\"\n        ],\n        \"semantic_type\": \"\",\n        \"description\": \"\"\n      }\n    },\n    {\n      \"column\": \"store_size\",\n      \"properties\": {\n        \"dtype\": \"number\",\n        \"std\": 102,\n        \"min\": 150,\n        \"max\": 400,\n        \"num_unique_values\": 3,\n        \"samples\": [\n          150,\n          250,\n          400\n        ],\n        \"semantic_type\": \"\",\n        \"description\": \"\"\n      }\n    },\n    {\n      \"column\": \"temp\",\n      \"properties\": {\n        \"dtype\": \"number\",\n        \"std\": 2.8640567401156156,\n        \"min\": 21.7,\n        \"max\": 37.1,\n        \"num_unique_values\": 109,\n        \"samples\": [\n          33.2,\n          28.0,\n          28.7\n        ],\n        \"semantic_type\": \"\",\n        \"description\": \"\"\n      }\n    },\n    {\n      \"column\": \"rain_mm\",\n      \"properties\": {\n        \"dtype\": \"number\",\n        \"std\": 2.181762743424281,\n        \"min\": 0.0,\n        \"max\": 14.5,\n        \"num_unique_values\": 67,\n        \"samples\": [\n          6.9,\n          1.5,\n          0.2\n        ],\n        \"semantic_type\": \"\",\n        \"description\": \"\"\n      }\n    },\n    {\n      \"column\": \"humidity\",\n      \"properties\": {\n        \"dtype\": \"number\",\n        \"std\": 12,\n        \"min\": 50,\n        \"max\": 89,\n        \"num_unique_values\": 40,\n        \"samples\": [\n          79,\n          87,\n          53\n        ],\n        \"semantic_type\": \"\",\n        \"description\": \"\"\n      }\n    },\n    {\n      \"column\": \"is_weekend\",\n      \"properties\": {\n        \"dtype\": \"number\",\n        \"std\": 0,\n        \"min\": 0,\n        \"max\": 1,\n        \"num_unique_values\": 2,\n        \"samples\": [\n          0,\n          1\n        ],\n        \"semantic_type\": \"\",\n        \"description\": \"\"\n      }\n    },\n    {\n      \"column\": \"is_15th_or_30th\",\n      \"properties\": {\n        \"dtype\": \"number\",\n        \"std\": 0,\n        \"min\": 0,\n        \"max\": 1,\n        \"num_unique_values\": 2,\n        \"samples\": [\n          1,\n          0\n        ],\n        \"semantic_type\": \"\",\n        \"description\": \"\"\n      }\n    },\n    {\n      \"column\": \"is_holiday\",\n      \"properties\": {\n        \"dtype\": \"number\",\n        \"std\": 0,\n        \"min\": 0,\n        \"max\": 1,\n        \"num_unique_values\": 2,\n        \"samples\": [\n          0,\n          1\n        ],\n        \"semantic_type\": \"\",\n        \"description\": \"\"\n      }\n    },\n    {\n      \"column\": \"promotion_level\",\n      \"properties\": {\n        \"dtype\": \"number\",\n        \"std\": 0,\n        \"min\": 0,\n        \"max\": 2,\n        \"num_unique_values\": 3,\n        \"samples\": [\n          0,\n          2\n        ],\n        \"semantic_type\": \"\",\n        \"description\": \"\"\n      }\n    },\n    {\n      \"column\": \"daily_traffic\",\n      \"properties\": {\n        \"dtype\": \"number\",\n        \"std\": 206,\n        \"min\": 185,\n        \"max\": 1050,\n        \"num_unique_values\": 228,\n        \"samples\": [\n          677,\n          185\n        ],\n        \"semantic_type\": \"\",\n        \"description\": \"\"\n      }\n    },\n    {\n      \"column\": \"sales\",\n      \"properties\": {\n        \"dtype\": \"number\",\n        \"std\": 1722.4236394739085,\n        \"min\": 3462.6,\n        \"max\": 9715.58,\n        \"num_unique_values\": 270,\n        \"samples\": [\n          4683.58,\n          6088.77\n        ],\n        \"semantic_type\": \"\",\n        \"description\": \"\"\n      }\n    },\n    {\n      \"column\": \"required_employees\",\n      \"properties\": {\n        \"dtype\": \"number\",\n        \"std\": 3,\n        \"min\": 4,\n        \"max\": 17,\n        \"num_unique_values\": 14,\n        \"samples\": [\n          13,\n          15\n        ],\n        \"semantic_type\": \"\",\n        \"description\": \"\"\n      }\n    }\n  ]\n}"
            }
          },
          "metadata": {},
          "execution_count": 31
        }
      ]
    },
    {
      "cell_type": "markdown",
      "source": [
        "#Prepare features and target\n",
        "Start the target variable, which the target is the required employees per store. As well as defining the features which the model will refer to when predicting."
      ],
      "metadata": {
        "id": "t3UFJ6NiIylB"
      }
    },
    {
      "cell_type": "code",
      "source": [
        "#Define target variable\n",
        "y = df['required_employees']\n",
        "\n",
        "# Define features\n",
        "features = [\n",
        "    'store_size',\n",
        "    'temp',\n",
        "    'rain_mm',\n",
        "    'humidity',\n",
        "    'is_weekend',\n",
        "    'is_15th_or_30th',\n",
        "    'is_holiday',\n",
        "    'promotion_level'\n",
        "]\n",
        "X = df[features]"
      ],
      "metadata": {
        "id": "3x-oa7m7IpAN"
      },
      "execution_count": 32,
      "outputs": []
    },
    {
      "cell_type": "markdown",
      "source": [
        "#Split Data (Train/Test)\n",
        "Split the data for training and one for testing to able to correctly validate the accuracy of the model. The data is split 80% for training and 20% for testing or validation."
      ],
      "metadata": {
        "id": "Oh3m2JLwJQFg"
      }
    },
    {
      "cell_type": "code",
      "source": [
        "#Split data into training/testing features and targets allocating 20% for testing\n",
        "X_train, X_test, y_train, y_test = train_test_split(\n",
        "    X, y, test_size=0.2, random_state=42\n",
        ")"
      ],
      "metadata": {
        "id": "b-9jPNZhJXlS"
      },
      "execution_count": 33,
      "outputs": []
    },
    {
      "cell_type": "markdown",
      "source": [
        "#Train Model with Pipeline\n",
        "Create a pipeline that fills in missing values and trains a `RandomForestRegressor` with 100 trees. Fit the pipeline using the training data.\n",
        "\n"
      ],
      "metadata": {
        "id": "xjRFc40SJre0"
      }
    },
    {
      "cell_type": "code",
      "source": [
        "# Create a pipeline with imputation and model\n",
        "pipeline = Pipeline(steps=[\n",
        "    ('imputer', SimpleImputer(strategy='most_frequent')),  # Optional but adds robustness\n",
        "    ('model', RandomForestRegressor(n_estimators=100, random_state=1))\n",
        "])\n",
        "\n",
        "# Fit the pipeline on training data\n",
        "pipeline.fit(X_train, y_train)\n",
        "\n",
        "# Predict on test data\n",
        "y_pred = pipeline.predict(X_test)\n",
        "\n",
        "# Evaluate\n",
        "mae = mean_absolute_error(y_test, y_pred)\n",
        "print(f\"Mean Absolute Error: {mae:.2f}\")"
      ],
      "metadata": {
        "colab": {
          "base_uri": "https://localhost:8080/"
        },
        "id": "jhTc8uQFJu54",
        "outputId": "2861658f-54d7-4dcb-ff4b-d537e9f0273a"
      },
      "execution_count": 34,
      "outputs": [
        {
          "output_type": "stream",
          "name": "stdout",
          "text": [
            "Mean Absolute Error: 0.44\n"
          ]
        }
      ]
    },
    {
      "cell_type": "markdown",
      "source": [
        "#Evaluate the Model\n",
        "Run tests to see the Mean Absolute Error (\"inaccuracy percentage\")."
      ],
      "metadata": {
        "id": "cImmR2E5JyOb"
      }
    },
    {
      "cell_type": "code",
      "source": [
        "#Produce a prediction then use the SkLearn mean_absolute_error() function to calculate the MAE\n",
        "y_pred = pipeline.predict(X_test)\n",
        "mae = mean_absolute_error(y_test, y_pred)\n",
        "print(f\"Mean Absolute Error: {mae:.2f}\")"
      ],
      "metadata": {
        "colab": {
          "base_uri": "https://localhost:8080/"
        },
        "id": "apzBMMEHJ1eq",
        "outputId": "37824fd3-1171-49de-f4fe-8daedd739cf5"
      },
      "execution_count": 35,
      "outputs": [
        {
          "output_type": "stream",
          "name": "stdout",
          "text": [
            "Mean Absolute Error: 0.44\n"
          ]
        }
      ]
    },
    {
      "cell_type": "markdown",
      "source": [
        "#Make Predictions\n",
        "Make predictions using the testing or validation variable."
      ],
      "metadata": {
        "id": "yQaamQrOJ8EU"
      }
    },
    {
      "cell_type": "code",
      "source": [
        "# Predict using the testing features\n",
        "predictions = pipeline.predict(X_test)\n",
        "predictions"
      ],
      "metadata": {
        "colab": {
          "base_uri": "https://localhost:8080/"
        },
        "id": "4OT8AWMcJ-TR",
        "outputId": "b71633a6-c245-46a4-ec86-dac71862d5cc"
      },
      "execution_count": 36,
      "outputs": [
        {
          "output_type": "execute_result",
          "data": {
            "text/plain": [
              "array([ 6.13,  9.46,  6.41,  7.62, 13.61,  7.44, 11.88,  6.4 ,  7.73,\n",
              "       11.42, 13.61, 11.75, 11.39,  6.43,  7.3 , 13.25, 11.85, 10.54,\n",
              "        9.  ,  4.94, 14.64, 11.48,  4.98,  7.76, 11.77,  4.99,  6.35,\n",
              "       11.87,  7.35,  7.59,  7.33,  4.82, 10.82, 11.66, 11.66,  7.92,\n",
              "        9.21,  5.  ,  7.43,  9.  ,  5.  ,  9.  , 11.73,  5.  ,  7.9 ,\n",
              "       11.83,  9.  , 13.53,  9.3 , 13.53,  4.34,  9.  , 11.75, 12.59])"
            ]
          },
          "metadata": {},
          "execution_count": 36
        }
      ]
    },
    {
      "cell_type": "markdown",
      "source": [
        "# Visualize Graphs\n",
        "Predictions vs actual graph. As well as Mean Absolute Error."
      ],
      "metadata": {
        "id": "QbJk3mFQK-5J"
      }
    },
    {
      "cell_type": "code",
      "source": [
        "# Create a DataFrame to compare actual vs predicted\n",
        "comparison_df = pd.DataFrame({\n",
        "    'Actual': y_test.values,\n",
        "    'Predicted': predictions\n",
        "})\n",
        "\n",
        "# Calculate MAE\n",
        "mae = mean_absolute_error(comparison_df['Actual'], comparison_df['Predicted'])\n",
        "print(f\"Mean Absolute Error (MAE): {mae:.2f}\")\n",
        "\n",
        "# Plot: Actual vs Predicted\n",
        "plt.figure(figsize=(6, 6))\n",
        "plt.scatter(comparison_df['Actual'], comparison_df['Predicted'], alpha=0.5)\n",
        "plt.plot([comparison_df['Actual'].min(), comparison_df['Actual'].max()],\n",
        "         [comparison_df['Actual'].min(), comparison_df['Actual'].max()],\n",
        "         'r--', label='Perfect Prediction')\n",
        "plt.xlabel('Actual')\n",
        "plt.ylabel('Predicted')\n",
        "plt.title('Actual vs Predicted Employee Count')\n",
        "plt.legend()\n",
        "plt.grid(True)\n",
        "plt.tight_layout()\n",
        "plt.show()\n",
        "\n",
        "# Plot: Error Distribution\n",
        "errors = comparison_df['Actual'] - comparison_df['Predicted']\n",
        "plt.figure(figsize=(6, 4))\n",
        "plt.hist(errors, bins=20, edgecolor='black')\n",
        "plt.title(f'Prediction Error Distribution (MAE = {mae:.2f})')\n",
        "plt.xlabel('Prediction Error')\n",
        "plt.ylabel('Frequency')\n",
        "plt.grid(True)\n",
        "plt.tight_layout()\n",
        "plt.show()\n"
      ],
      "metadata": {
        "colab": {
          "base_uri": "https://localhost:8080/",
          "height": 1000
        },
        "id": "VpO8Aq0OLENU",
        "outputId": "c1706062-4713-4b9c-8ba5-49df5e670f5f"
      },
      "execution_count": 37,
      "outputs": [
        {
          "output_type": "stream",
          "name": "stdout",
          "text": [
            "Mean Absolute Error (MAE): 0.44\n"
          ]
        },
        {
          "output_type": "display_data",
          "data": {
            "text/plain": [
              "<Figure size 600x600 with 1 Axes>"
            ],
            "image/png": "[encoded data removed]"
          },
          "metadata": {}
        },
        {
          "output_type": "display_data",
          "data": {
            "text/plain": [
              "<Figure size 600x400 with 1 Axes>"
            ],
            "image/png": "[encoded data removed]"
          },
          "metadata": {}
        }
      ]
    }
  ]
}